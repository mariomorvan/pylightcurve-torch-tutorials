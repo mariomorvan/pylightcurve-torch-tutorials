{
 "cells": [
  {
   "cell_type": "code",
   "execution_count": 1,
   "metadata": {},
   "outputs": [],
   "source": [
    "import warnings\n",
    "import numpy as np\n",
    "import torch\n",
    "import matplotlib.pylab as plt\n",
    "from pylightcurve_torch import TransitModule\n",
    "\n",
    "# plt.rcParams['figure.figsize'] = 12,3"
   ]
  },
  {
   "cell_type": "code",
   "execution_count": 2,
   "metadata": {},
   "outputs": [],
   "source": [
    "time =  torch.linspace(4,6,500)\n",
    "pars =  {'e':0.05, 'i':90., 'w':0., 'rp': 0.05, 'method': 'linear', 'ldc': [0.1], \n",
    "             'P': 4., 't0': 5., 'a': 5., 'fp': 0.0001}\n",
    "\n",
    "tm = TransitModule(time, **pars)\n"
   ]
  },
  {
   "cell_type": "code",
   "execution_count": 3,
   "metadata": {},
   "outputs": [],
   "source": [
    "import torch.distributions as dist\n",
    "\n",
    "class ParSampler():\n",
    "    bounds = {\n",
    "              't0': (-1e10, 1e10),\n",
    "              'a': (0., 1e4),\n",
    "              'P': (0., 1e4),\n",
    "              'rp': (0., 1.),\n",
    "              'fp': (0., 1.),\n",
    "              'e': (0., 1.),\n",
    "              'w': (0., 180.),\n",
    "              'i': (0., 180.),\n",
    "             }\n",
    "    bounds_ldc = {'linear': [(0,1)], \n",
    "                  'sqrt': [(0., 1.), (-1., 1.)],\n",
    "                  'quad': [(0., 1.), (-1., 1.)],\n",
    "                  'claret': [(-1., 1.), (-1., 1.), (-1., 1.), (-1., 1.)]}\n",
    "    \n",
    "    def __init__(self, method='linear', locs=None, scales=None, bounds=None):\n",
    "        self.method = method\n",
    "        for par in self.bounds:\n",
    "            loc = locs[par] if locs is not None and par in locs else None\n",
    "            scale = scales[par] if scales is not None and par in scales else None\n",
    "            b = bounds[par] if bounds is not None and par in bounds else None\n",
    "            self.set_param(par, loc, scale, b)\n",
    "            \n",
    "        self.set_ldc(locs['ldc'] if locs is not None and 'ldc' in locs else None,\n",
    "                     scales['ldc'] if scales is not None and 'ldc' in scales else None,\n",
    "                     bounds['ldc'] if bounds is not None  and 'ldc' in bounds else None\n",
    "                    )\n",
    "    \n",
    "    def set_param(self, name, loc=None, scale=None, bounds=None):\n",
    "        \n",
    "        if name == 'ldc':\n",
    "            self.set_ldc(loc, scale, bounds)\n",
    "            return \n",
    "        elif name in self.bounds:\n",
    "            bounds = bounds if bounds else self.bounds[name]\n",
    "        else:\n",
    "            raise RuntimeError('unkown param')\n",
    "        setattr(self, name, Param(name, loc, scale, bounds))\n",
    "    \n",
    "    def set_ldc(self, loc=None, scale=None, bounds=None):\n",
    "        ldc_dim = len(self.bounds_ldc[self.method])\n",
    "        if loc is not None:\n",
    "            assert len(loc) == ldc_dim\n",
    "        else:\n",
    "            loc = [None] * ldc_dim\n",
    "        if scale is not None:\n",
    "            assert len(scale) == ldc_dim\n",
    "        else:\n",
    "            scale = [None] * ldc_dim\n",
    "        if bounds is not None:\n",
    "            assert len(bounds) == ldc_dim\n",
    "        else:\n",
    "            bounds = self.bounds_ldc[self.method]\n",
    "        for i in range(ldc_dim):\n",
    "            setattr(self, 'ldc_'+str(i), Param('ldc_'+str(i), loc[i], scale[i], bounds[i]))\n",
    "    \n",
    "    def sample_ldc(self):\n",
    "        ldc_dim = len(self.bounds_ldc[self.method])\n",
    "        out = [None] * ldc_dim\n",
    "        for i in range(ldc_dim):\n",
    "            out[i] = getattr(self, 'ldc_'+str(i)).sample()\n",
    "        return out\n",
    "    \n",
    "    def sample(self):\n",
    "        out = dict()\n",
    "        for par in self.bounds:\n",
    "            out[par] = getattr(self, par).sample()\n",
    "        out['ldc'] = self.sample_ldc()\n",
    "        return out\n",
    "    \n",
    "    @property\n",
    "    def ldc(self):\n",
    "        return [getattr(self, 'ldc_'+str(i)) for i in range(len(self.bounds_ldc[self.method]))]\n",
    "            \n",
    "    def __repr__(self):\n",
    "        return 'ParSampler(' + ',\\n\\t   '.join([str(getattr(self, par)) for par in self.bounds]\n",
    "                                               + [str(ldc) for ldc in self.ldc]) + ')'\n",
    "            \n",
    "class Param():\n",
    "    def __init__(self, name, loc=None, scale=None, bounds=None):\n",
    "        self.name = name\n",
    "        self.loc = loc\n",
    "        if bounds is not None and self.loc is not None:\n",
    "            assert bounds[0] < self.loc < bounds[1]\n",
    "        self.scale = scale\n",
    "        self.bounds = bounds\n",
    "    \n",
    "    def sample(self):\n",
    "        if self.loc is not None and self.scale is not None:\n",
    "            out = dist.Normal(self.loc, self.scale).sample()\n",
    "            if self.bounds is not None:\n",
    "                warnings.warn('out of bounds')\n",
    "                out = out.clamp(*self.bounds)\n",
    "            return out\n",
    "        elif self.bounds is not None:\n",
    "            return dist.Uniform(*self.bounds).sample()\n",
    "        elif self.loc is not None:\n",
    "            return self.loc\n",
    "        else:\n",
    "            raise RuntimeError(\"couldn't sample because of missing params\")\n",
    "            \n",
    "    def __repr__(self):\n",
    "        return (f\"Param('{self.name}'\"\n",
    "                + (f', loc={self.loc}' if self.loc is not None else '')\n",
    "                + (f', scale={self.scale}'if self.scale is not None else '')\n",
    "                + (f', bounds={self.bounds}' if self.bounds is not None else '')\n",
    "                + ')')"
   ]
  },
  {
   "cell_type": "code",
   "execution_count": 4,
   "metadata": {},
   "outputs": [
    {
     "data": {
      "text/plain": [
       "ParSampler(Param('t0', bounds=(-10, 10)),\n",
       "\t   Param('a', bounds=(0.0, 10000.0)),\n",
       "\t   Param('P', bounds=(0, 10)),\n",
       "\t   Param('rp', bounds=(0.0, 1.0)),\n",
       "\t   Param('fp', bounds=(0.0, 1.0)),\n",
       "\t   Param('e', bounds=(0.0, 1.0)),\n",
       "\t   Param('w', bounds=(0.0, 180.0)),\n",
       "\t   Param('i', bounds=(0.0, 180.0)),\n",
       "\t   Param('ldc_0', bounds=(0.0, 1.0)),\n",
       "\t   Param('ldc_1', bounds=(-1.0, 1.0)))"
      ]
     },
     "execution_count": 4,
     "metadata": {},
     "output_type": "execute_result"
    }
   ],
   "source": [
    "ps = ParSampler(method='sqrt', bounds={'t0':(-10,10), 'P':(0, 10)})\n",
    "ps"
   ]
  },
  {
   "cell_type": "code",
   "execution_count": 5,
   "metadata": {},
   "outputs": [
    {
     "data": {
      "text/plain": [
       "{'t0': tensor(6.6477),\n",
       " 'a': tensor(3297.1497),\n",
       " 'P': tensor(0.0863),\n",
       " 'rp': tensor(0.9850),\n",
       " 'fp': tensor(0.4746),\n",
       " 'e': tensor(0.6091),\n",
       " 'w': tensor(118.5142),\n",
       " 'i': tensor(1.7685),\n",
       " 'ldc': [tensor(0.2747), tensor(0.2091)]}"
      ]
     },
     "execution_count": 5,
     "metadata": {},
     "output_type": "execute_result"
    }
   ],
   "source": [
    "ps.sample()"
   ]
  },
  {
   "cell_type": "code",
   "execution_count": 6,
   "metadata": {},
   "outputs": [
    {
     "data": {
      "text/plain": [
       "['method', 'P', 'i', 'e', 'a', 'rp', 'fp', 't0', 'w', 'ldc']"
      ]
     },
     "execution_count": 6,
     "metadata": {},
     "output_type": "execute_result"
    }
   ],
   "source": [
    "tm._parnames"
   ]
  },
  {
   "cell_type": "code",
   "execution_count": 7,
   "metadata": {},
   "outputs": [],
   "source": [
    "#tm.set_param(e=0.1)"
   ]
  },
  {
   "cell_type": "code",
   "execution_count": 10,
   "metadata": {},
   "outputs": [
    {
     "data": {
      "text/plain": [
       "(Parameter containing:\n",
       " tensor([[0.0500]], dtype=torch.float64),\n",
       " Parameter containing:\n",
       " tensor([[0.0500]], dtype=torch.float64))"
      ]
     },
     "execution_count": 10,
     "metadata": {},
     "output_type": "execute_result"
    }
   ],
   "source": [
    "tm.activate_grad('w')\n",
    "tm.rp, tm.e"
   ]
  },
  {
   "cell_type": "code",
   "execution_count": 11,
   "metadata": {},
   "outputs": [],
   "source": [
    "obs_flux = tm(rp=tm.rp + torch.distributions.Normal(0,tm.rp/10).sample()).detach()\n",
    "initial_flux = tm().detach()"
   ]
  },
  {
   "cell_type": "code",
   "execution_count": 12,
   "metadata": {},
   "outputs": [
    {
     "data": {
      "text/plain": [
       "[<matplotlib.lines.Line2D at 0x7fb61cc5b090>]"
      ]
     },
     "execution_count": 12,
     "metadata": {},
     "output_type": "execute_result"
    },
    {
     "data": {
      "image/png": "[encoded data removed]",
      "text/plain": [
       "<Figure size 432x288 with 1 Axes>"
      ]
     },
     "metadata": {
      "needs_background": "light"
     },
     "output_type": "display_data"
    }
   ],
   "source": [
    "plt.plot(obs_flux.T.detach())\n",
    "plt.plot(initial_flux.T.detach())"
   ]
  },
  {
   "cell_type": "code",
   "execution_count": 13,
   "metadata": {},
   "outputs": [],
   "source": [
    "optimizer = torch.optim.SGD(tm.parameters(), lr=0.1)"
   ]
  },
  {
   "cell_type": "code",
   "execution_count": 14,
   "metadata": {},
   "outputs": [
    {
     "name": "stdout",
     "output_type": "stream",
     "text": [
      "Parameter containing:\n",
      "tensor([[0.0500]], dtype=torch.float64) Parameter containing:\n",
      "tensor([[0.0500]], dtype=torch.float64) Parameter containing:\n",
      "tensor([[0.]], dtype=torch.float64, requires_grad=True)\n",
      "loss tensor(0.9997, dtype=torch.float64, grad_fn=<MeanBackward0>)\n",
      "Parameter containing:\n",
      "tensor([[0.0500]], dtype=torch.float64) Parameter containing:\n",
      "tensor([[0.0500]], dtype=torch.float64) Parameter containing:\n",
      "tensor([[-2.8896e-08]], dtype=torch.float64, requires_grad=True)\n",
      "loss tensor(0.9997, dtype=torch.float64, grad_fn=<MeanBackward0>)\n"
     ]
    }
   ],
   "source": [
    "tm.train()\n",
    "for step in range(2):\n",
    "    print(tm.e, tm.rp, tm.w)\n",
    "    optimizer.zero_grad()\n",
    "    loss = tm().mean()\n",
    "    \n",
    "    loss.backward()\n",
    "    print(\"loss\", loss)\n",
    "    \n",
    "    optimizer.step()"
   ]
  }
 ],
 "metadata": {
  "kernelspec": {
   "display_name": "Python (pylightcurve-torch)",
   "language": "python",
   "name": "pylightcurve"
  },
  "language_info": {
   "codemirror_mode": {
    "name": "ipython",
    "version": 3
   },
   "file_extension": ".py",
   "mimetype": "text/x-python",
   "name": "python",
   "nbconvert_exporter": "python",
   "pygments_lexer": "ipython3",
   "version": "3.7.7"
  },
  "toc": {
   "base_numbering": 1,
   "nav_menu": {},
   "number_sections": true,
   "sideBar": true,
   "skip_h1_title": false,
   "title_cell": "Table of Contents",
   "title_sidebar": "Contents",
   "toc_cell": false,
   "toc_position": {},
   "toc_section_display": true,
   "toc_window_display": false
  }
 },
 "nbformat": 4,
 "nbformat_minor": 4
}
