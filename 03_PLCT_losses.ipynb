{
 "cells": [
  {
   "cell_type": "code",
   "execution_count": 1,
   "metadata": {},
   "outputs": [],
   "source": [
    "import torch\n",
    "from torch import nn\n",
    "from pylightcurve_torch import TransitModule"
   ]
  },
  {
   "cell_type": "markdown",
   "metadata": {},
   "source": [
    "# Losses"
   ]
  },
  {
   "cell_type": "code",
   "execution_count": 7,
   "metadata": {},
   "outputs": [],
   "source": [
    "def reduce(x, reduction='mean', axis=None):\n",
    "    if axis is None:\n",
    "        axis = tuple(range(len(torch.ones(5,5).shape) - 1))\n",
    "    if reduction == \"mean\":\n",
    "        return x.mean(axis=axis)\n",
    "    elif reduction == \"sum\":\n",
    "        return x.sum(axis=axis)\n",
    "    elif reduction == 'none':\n",
    "        return x\n",
    "    else:\n",
    "        raise RuntimeError('wrong reduction argument')\n",
    "\n",
    "def reduce_(x, reduction='mean', axis=None):\n",
    "    if axis is None:\n",
    "        axis = tuple(range(len(torch.ones(5,5).shape) - 1))    \n",
    "    if reduction == \"mean\":\n",
    "        return x.mean_(axis=axis)\n",
    "    elif reduction == \"sum\":\n",
    "        return x.sum_(axis=axis)\n",
    "    elif reduction == 'none':\n",
    "        return x\n",
    "    else:\n",
    "        raise RuntimeError('wrong reduction argument')\n",
    "        \n",
    "class MSETransitLoss(nn.Module):\n",
    "    def __init__(self, transit_model, restrict_transit=False, batch_reduction='mean'):\n",
    "        super().__init__()\n",
    "        self.transit_model = transit_model\n",
    "        self.restrict_transit = bool(restrict_transit)\n",
    "        self.batch_reduction = batch_reduction\n",
    "        \n",
    "    def __call__(self, y, **pars):\n",
    "        \"\"\" \n",
    "        X: input flux\n",
    "        pred: dict of predictions\n",
    "        phi: additional data\n",
    "        \n",
    "        \"\"\"\n",
    "        recons = self.transit_model(**pars)\n",
    "        assert not torch.isnan(recons).any()\n",
    "        \n",
    "        if self.restrict_transit:\n",
    "            durations = tm.get_duration(**pars)\n",
    "            in_transit = torch.abs(tm.time - tm.mid_time) < durations  / 2\n",
    "            recons_loss = nn.MSELoss(reduction='none')(recons * in_transit, y * in_transit)\n",
    "            recons_loss = recons_loss.sum(-1, keepdim=True) / in_transit.sum(-1, keepdim=True)\n",
    "            recons_loss = reduce(recons_loss, self.batch_reduction)\n",
    "        else:\n",
    "            recons_loss = nn.MSELoss(reduction=\"none\")(recons, y)\n",
    "            recons_loss = reduce(recons_loss, self.batch_reduction)\n",
    "        return recons_loss\n",
    "    \n",
    "class RMSELoss(nn.Module):\n",
    "    def __init__(self, batch_reduction = 'mean', time_reduction='mean'):\n",
    "        super().__init__()\n",
    "        self.batch_reduction = batch_reduction\n",
    "        self.time_reduction = time_reduction\n",
    "        \n",
    "    def __call__(self, x, y):\n",
    "        loss = nn.MSELoss(reduction='none')(x,y)\n",
    "        loss = reduce(loss, self.time_reduction, -1)\n",
    "        loss.sqrt_()\n",
    "        return reduce(loss, self.batch_reduction)\n",
    "\n",
    "    \n",
    "class RMSETransitLoss(nn.Module):\n",
    "    def __init__(self, transit_model, restrict_transit=False, batch_reduction=\"mean\"):\n",
    "        super().__init__()\n",
    "        self.transit_model = transit_model\n",
    "        self.restrict_transit = bool(restrict_transit)\n",
    "        self.batch_reduction = batch_reduction\n",
    "        #self.time_reduction = time_reduction\n",
    "        \n",
    "    def __call__(self, y, **pars):\n",
    "        \"\"\" \n",
    "        X: input flux\n",
    "        pred: dict of predictions\n",
    "        phi: additional data\n",
    "        \n",
    "        \"\"\"\n",
    "        recons = self.transit_model(**pars)\n",
    "        assert not torch.isnan(recons).any()\n",
    "        \n",
    "        if self.restrict_transit:\n",
    "            durations = tm.get_duration(**pars)\n",
    "            in_transit = torch.abs(tm.time - tm.mid_time) < durations  / 2\n",
    "            recons_loss = nn.MSELoss(reduction='none')(recons * in_transit, y * in_transit)\n",
    "            \n",
    "            recons_loss = recons_loss.sum(-1, keepdim=True) / in_transit.sum(-1, keepdim=True)\n",
    "            recons_loss.sqrt_()\n",
    "            recons_loss = reduce(recons_loss, self.batch_reduction)\n",
    "        else:\n",
    "            recons_loss = RMSELoss(batch_reduction=self.batch_reduction)(recons, y)\n",
    "        return recons_loss"
   ]
  },
  {
   "cell_type": "code",
   "execution_count": 25,
   "metadata": {},
   "outputs": [
    {
     "name": "stdout",
     "output_type": "stream",
     "text": [
      "torch.Size([3, 10])\n"
     ]
    },
    {
     "data": {
      "text/plain": [
       "(torch.Size([3, 10]), torch.Size([3, 10]))"
      ]
     },
     "execution_count": 25,
     "metadata": {},
     "output_type": "execute_result"
    }
   ],
   "source": [
    "x = torch.rand(1,10).float()\n",
    "y = torch.rand(3,10).float()\n",
    "\n",
    "#nn.MSELoss(reduction='none')(x,y).mean(1).mean(0).sqrt(), nn.MSELoss(reduction='none')(x,y).mean(1).sqrt().mean(0)\n",
    "\n",
    "\n",
    "(nn.MSELoss(reduction=\"none\")(x, y)).shape, (RMSELoss(batch_reduction='none', time_reduction=\"none\")(x, y)**2).shape"
   ]
  },
  {
   "cell_type": "code",
   "execution_count": 32,
   "metadata": {},
   "outputs": [],
   "source": [
    "time =  torch.linspace(4,6,1000)\n",
    "pars =  {'e':0.01, 'i':90., 'w':0., 'rp': 0.02, 'method': 'linear', 'ldc': [0.2], \n",
    "             'P': 5., 't0': 5., 'a': 3., 'fp': 0.0001}\n",
    "tm = TransitModule(time, **pars)\n",
    "mse_loss = MSETransitLoss(tm, restrict_transit=False)\n",
    "rmse_loss = RMSETransitLoss(tm, restrict_transit=False)"
   ]
  },
  {
   "cell_type": "code",
   "execution_count": 33,
   "metadata": {},
   "outputs": [
    {
     "data": {
      "text/plain": [
       "(torch.Size([1, 1000]), (1, 1000))"
      ]
     },
     "execution_count": 33,
     "metadata": {},
     "output_type": "execute_result"
    }
   ],
   "source": [
    "obs = tm() + torch.randn_like(tm())/100000\n",
    "obs.shape, tm.shape"
   ]
  },
  {
   "cell_type": "code",
   "execution_count": 35,
   "metadata": {},
   "outputs": [
    {
     "data": {
      "text/plain": [
       "torch.Size([1000])"
      ]
     },
     "execution_count": 35,
     "metadata": {},
     "output_type": "execute_result"
    }
   ],
   "source": [
    "\n",
    "mse_loss(obs, rp=range(10), batch_reduction='none').shape"
   ]
  },
  {
   "cell_type": "code",
   "execution_count": 456,
   "metadata": {},
   "outputs": [
    {
     "data": {
      "text/plain": [
       "tensor([1.6973e-05], dtype=torch.float64)"
      ]
     },
     "execution_count": 456,
     "metadata": {},
     "output_type": "execute_result"
    }
   ],
   "source": [
    "mse_loss(obs, rp=rp)"
   ]
  },
  {
   "cell_type": "code",
   "execution_count": 457,
   "metadata": {},
   "outputs": [
    {
     "data": {
      "text/plain": [
       "torch.Size([100, 1000])"
      ]
     },
     "execution_count": 457,
     "metadata": {},
     "output_type": "execute_result"
    }
   ],
   "source": [
    "MSETransitLoss(tm, restrict_transit=False, batch_reduction='none')(obs, rp=rp).shape"
   ]
  },
  {
   "cell_type": "code",
   "execution_count": 458,
   "metadata": {},
   "outputs": [
    {
     "ename": "ValueError",
     "evalue": "x and y must have same first dimension, but have shapes torch.Size([100]) and torch.Size([1])",
     "output_type": "error",
     "traceback": [
      "\u001b[0;31m---------------------------------------------------------------------------\u001b[0m",
      "\u001b[0;31mValueError\u001b[0m                                Traceback (most recent call last)",
      "\u001b[0;32m<ipython-input-458-028dcea22457>\u001b[0m in \u001b[0;36m<module>\u001b[0;34m\u001b[0m\n\u001b[1;32m      5\u001b[0m \u001b[0;34m\u001b[0m\u001b[0m\n\u001b[1;32m      6\u001b[0m \u001b[0mplt\u001b[0m\u001b[0;34m.\u001b[0m\u001b[0mplot\u001b[0m\u001b[0;34m(\u001b[0m\u001b[0mrp\u001b[0m\u001b[0;34m,\u001b[0m \u001b[0mMSETransitLoss\u001b[0m\u001b[0;34m(\u001b[0m\u001b[0mtm\u001b[0m\u001b[0;34m,\u001b[0m \u001b[0mrestrict_transit\u001b[0m\u001b[0;34m=\u001b[0m\u001b[0;32mFalse\u001b[0m\u001b[0;34m,\u001b[0m \u001b[0mbatch_reduction\u001b[0m\u001b[0;34m=\u001b[0m\u001b[0;34m'none'\u001b[0m\u001b[0;34m)\u001b[0m\u001b[0;34m(\u001b[0m\u001b[0mobs\u001b[0m\u001b[0;34m,\u001b[0m \u001b[0mrp\u001b[0m\u001b[0;34m=\u001b[0m\u001b[0mrp\u001b[0m\u001b[0;34m)\u001b[0m\u001b[0;34m)\u001b[0m\u001b[0;34m\u001b[0m\u001b[0;34m\u001b[0m\u001b[0m\n\u001b[0;32m----> 7\u001b[0;31m \u001b[0mplt\u001b[0m\u001b[0;34m.\u001b[0m\u001b[0mplot\u001b[0m\u001b[0;34m(\u001b[0m\u001b[0mrp\u001b[0m\u001b[0;34m,\u001b[0m \u001b[0mrmse_loss\u001b[0m\u001b[0;34m(\u001b[0m\u001b[0mobs\u001b[0m\u001b[0;34m,\u001b[0m \u001b[0mrp\u001b[0m\u001b[0;34m=\u001b[0m\u001b[0mrp\u001b[0m\u001b[0;34m)\u001b[0m\u001b[0;34m)\u001b[0m\u001b[0;34m\u001b[0m\u001b[0;34m\u001b[0m\u001b[0m\n\u001b[0m\u001b[1;32m      8\u001b[0m \u001b[0mplt\u001b[0m\u001b[0;34m.\u001b[0m\u001b[0myscale\u001b[0m\u001b[0;34m(\u001b[0m\u001b[0;34m'log'\u001b[0m\u001b[0;34m)\u001b[0m\u001b[0;34m\u001b[0m\u001b[0;34m\u001b[0m\u001b[0m\n",
      "\u001b[0;32m~/miniconda3/envs/pylightcurve/lib/python3.7/site-packages/matplotlib/pyplot.py\u001b[0m in \u001b[0;36mplot\u001b[0;34m(scalex, scaley, data, *args, **kwargs)\u001b[0m\n\u001b[1;32m   2824\u001b[0m     return gca().plot(\n\u001b[1;32m   2825\u001b[0m         \u001b[0;34m*\u001b[0m\u001b[0margs\u001b[0m\u001b[0;34m,\u001b[0m \u001b[0mscalex\u001b[0m\u001b[0;34m=\u001b[0m\u001b[0mscalex\u001b[0m\u001b[0;34m,\u001b[0m \u001b[0mscaley\u001b[0m\u001b[0;34m=\u001b[0m\u001b[0mscaley\u001b[0m\u001b[0;34m,\u001b[0m\u001b[0;34m\u001b[0m\u001b[0;34m\u001b[0m\u001b[0m\n\u001b[0;32m-> 2826\u001b[0;31m         **({\"data\": data} if data is not None else {}), **kwargs)\n\u001b[0m\u001b[1;32m   2827\u001b[0m \u001b[0;34m\u001b[0m\u001b[0m\n\u001b[1;32m   2828\u001b[0m \u001b[0;34m\u001b[0m\u001b[0m\n",
      "\u001b[0;32m~/miniconda3/envs/pylightcurve/lib/python3.7/site-packages/matplotlib/axes/_axes.py\u001b[0m in \u001b[0;36mplot\u001b[0;34m(self, scalex, scaley, data, *args, **kwargs)\u001b[0m\n\u001b[1;32m   1741\u001b[0m         \"\"\"\n\u001b[1;32m   1742\u001b[0m         \u001b[0mkwargs\u001b[0m \u001b[0;34m=\u001b[0m \u001b[0mcbook\u001b[0m\u001b[0;34m.\u001b[0m\u001b[0mnormalize_kwargs\u001b[0m\u001b[0;34m(\u001b[0m\u001b[0mkwargs\u001b[0m\u001b[0;34m,\u001b[0m \u001b[0mmlines\u001b[0m\u001b[0;34m.\u001b[0m\u001b[0mLine2D\u001b[0m\u001b[0;34m)\u001b[0m\u001b[0;34m\u001b[0m\u001b[0;34m\u001b[0m\u001b[0m\n\u001b[0;32m-> 1743\u001b[0;31m         \u001b[0mlines\u001b[0m \u001b[0;34m=\u001b[0m \u001b[0;34m[\u001b[0m\u001b[0;34m*\u001b[0m\u001b[0mself\u001b[0m\u001b[0;34m.\u001b[0m\u001b[0m_get_lines\u001b[0m\u001b[0;34m(\u001b[0m\u001b[0;34m*\u001b[0m\u001b[0margs\u001b[0m\u001b[0;34m,\u001b[0m \u001b[0mdata\u001b[0m\u001b[0;34m=\u001b[0m\u001b[0mdata\u001b[0m\u001b[0;34m,\u001b[0m \u001b[0;34m**\u001b[0m\u001b[0mkwargs\u001b[0m\u001b[0;34m)\u001b[0m\u001b[0;34m]\u001b[0m\u001b[0;34m\u001b[0m\u001b[0;34m\u001b[0m\u001b[0m\n\u001b[0m\u001b[1;32m   1744\u001b[0m         \u001b[0;32mfor\u001b[0m \u001b[0mline\u001b[0m \u001b[0;32min\u001b[0m \u001b[0mlines\u001b[0m\u001b[0;34m:\u001b[0m\u001b[0;34m\u001b[0m\u001b[0;34m\u001b[0m\u001b[0m\n\u001b[1;32m   1745\u001b[0m             \u001b[0mself\u001b[0m\u001b[0;34m.\u001b[0m\u001b[0madd_line\u001b[0m\u001b[0;34m(\u001b[0m\u001b[0mline\u001b[0m\u001b[0;34m)\u001b[0m\u001b[0;34m\u001b[0m\u001b[0;34m\u001b[0m\u001b[0m\n",
      "\u001b[0;32m~/miniconda3/envs/pylightcurve/lib/python3.7/site-packages/matplotlib/axes/_base.py\u001b[0m in \u001b[0;36m__call__\u001b[0;34m(self, data, *args, **kwargs)\u001b[0m\n\u001b[1;32m    271\u001b[0m                 \u001b[0mthis\u001b[0m \u001b[0;34m+=\u001b[0m \u001b[0margs\u001b[0m\u001b[0;34m[\u001b[0m\u001b[0;36m0\u001b[0m\u001b[0;34m]\u001b[0m\u001b[0;34m,\u001b[0m\u001b[0;34m\u001b[0m\u001b[0;34m\u001b[0m\u001b[0m\n\u001b[1;32m    272\u001b[0m                 \u001b[0margs\u001b[0m \u001b[0;34m=\u001b[0m \u001b[0margs\u001b[0m\u001b[0;34m[\u001b[0m\u001b[0;36m1\u001b[0m\u001b[0;34m:\u001b[0m\u001b[0;34m]\u001b[0m\u001b[0;34m\u001b[0m\u001b[0;34m\u001b[0m\u001b[0m\n\u001b[0;32m--> 273\u001b[0;31m             \u001b[0;32myield\u001b[0m \u001b[0;32mfrom\u001b[0m \u001b[0mself\u001b[0m\u001b[0;34m.\u001b[0m\u001b[0m_plot_args\u001b[0m\u001b[0;34m(\u001b[0m\u001b[0mthis\u001b[0m\u001b[0;34m,\u001b[0m \u001b[0mkwargs\u001b[0m\u001b[0;34m)\u001b[0m\u001b[0;34m\u001b[0m\u001b[0;34m\u001b[0m\u001b[0m\n\u001b[0m\u001b[1;32m    274\u001b[0m \u001b[0;34m\u001b[0m\u001b[0m\n\u001b[1;32m    275\u001b[0m     \u001b[0;32mdef\u001b[0m \u001b[0mget_next_color\u001b[0m\u001b[0;34m(\u001b[0m\u001b[0mself\u001b[0m\u001b[0;34m)\u001b[0m\u001b[0;34m:\u001b[0m\u001b[0;34m\u001b[0m\u001b[0;34m\u001b[0m\u001b[0m\n",
      "\u001b[0;32m~/miniconda3/envs/pylightcurve/lib/python3.7/site-packages/matplotlib/axes/_base.py\u001b[0m in \u001b[0;36m_plot_args\u001b[0;34m(self, tup, kwargs)\u001b[0m\n\u001b[1;32m    397\u001b[0m \u001b[0;34m\u001b[0m\u001b[0m\n\u001b[1;32m    398\u001b[0m         \u001b[0;32mif\u001b[0m \u001b[0mx\u001b[0m\u001b[0;34m.\u001b[0m\u001b[0mshape\u001b[0m\u001b[0;34m[\u001b[0m\u001b[0;36m0\u001b[0m\u001b[0;34m]\u001b[0m \u001b[0;34m!=\u001b[0m \u001b[0my\u001b[0m\u001b[0;34m.\u001b[0m\u001b[0mshape\u001b[0m\u001b[0;34m[\u001b[0m\u001b[0;36m0\u001b[0m\u001b[0;34m]\u001b[0m\u001b[0;34m:\u001b[0m\u001b[0;34m\u001b[0m\u001b[0;34m\u001b[0m\u001b[0m\n\u001b[0;32m--> 399\u001b[0;31m             raise ValueError(f\"x and y must have same first dimension, but \"\n\u001b[0m\u001b[1;32m    400\u001b[0m                              f\"have shapes {x.shape} and {y.shape}\")\n\u001b[1;32m    401\u001b[0m         \u001b[0;32mif\u001b[0m \u001b[0mx\u001b[0m\u001b[0;34m.\u001b[0m\u001b[0mndim\u001b[0m \u001b[0;34m>\u001b[0m \u001b[0;36m2\u001b[0m \u001b[0;32mor\u001b[0m \u001b[0my\u001b[0m\u001b[0;34m.\u001b[0m\u001b[0mndim\u001b[0m \u001b[0;34m>\u001b[0m \u001b[0;36m2\u001b[0m\u001b[0;34m:\u001b[0m\u001b[0;34m\u001b[0m\u001b[0;34m\u001b[0m\u001b[0m\n",
      "\u001b[0;31mValueError\u001b[0m: x and y must have same first dimension, but have shapes torch.Size([100]) and torch.Size([1])"
     ]
    },
    {
     "data": {
      "image/png": "[encoded data removed]",
      "text/plain": [
       "<Figure size 432x288 with 1 Axes>"
      ]
     },
     "metadata": {
      "needs_background": "light"
     },
     "output_type": "display_data"
    }
   ],
   "source": [
    "mse_errs = []\n",
    "rmse_errs = []\n",
    "\n",
    "rp = torch.linspace(0.001, 0.1, 100)\n",
    "    \n",
    "plt.plot(rp, MSETransitLoss(tm, restrict_transit=False, batch_reduction='none')(obs, rp=rp))\n",
    "plt.plot(rp, rmse_loss(obs, rp=rp))\n",
    "plt.yscale('log')"
   ]
  },
  {
   "cell_type": "code",
   "execution_count": 459,
   "metadata": {},
   "outputs": [
    {
     "data": {
      "text/plain": [
       "[<matplotlib.lines.Line2D at 0x7fc41bddd850>]"
      ]
     },
     "execution_count": 459,
     "metadata": {},
     "output_type": "execute_result"
    },
    {
     "data": {
      "image/png": "[encoded data removed]",
      "text/plain": [
       "<Figure size 432x288 with 1 Axes>"
      ]
     },
     "metadata": {
      "needs_background": "light"
     },
     "output_type": "display_data"
    }
   ],
   "source": [
    "import matplotlib.pylab as plt\n",
    "plt.plot(obs.T)\n",
    "\n"
   ]
  },
  {
   "cell_type": "code",
   "execution_count": null,
   "metadata": {},
   "outputs": [],
   "source": [
    "# Hybrid module"
   ]
  },
  {
   "cell_type": "code",
   "execution_count": 221,
   "metadata": {},
   "outputs": [],
   "source": [
    "TransitModule()\n",
    "\n",
    "transit_pars = {'e':0.01, 'i':90., 'w':0., 'rp': 0.05, 'method': 'linear', 'ldc': [0.1], \n",
    "                'P': 4., 't0': 5., 'a': 5., 'fp': 0.0001}\n",
    "\n",
    "class HybridModule(nn.Module):\n",
    "    def __init__(self, time, theta_names = [], **transit_pars):\n",
    "        \"\"\"\n",
    "        theta: ordered list of named parameters to predict and give as input to the transit model\n",
    "        \"\"\"\n",
    "        super().__init__()\n",
    "        self.theta_names = theta_names\n",
    "        self.tm = TransitModule(time)\n",
    "        self.tm.set_param(**transit_pars)\n",
    "        self.tm.fit_param(*theta_names)\n",
    "        self.lin = nn.Linear(self.tm.shape[-1], len(theta_names))\n",
    "        \n",
    "        \n",
    "    def forward(self, flux):\n",
    "        theta = self.lin(flux)\n",
    "        return self.tm({theta[:,i]: theta_names[i] for i in range(len(self.theta_names))})\n",
    "        "
   ]
  },
  {
   "cell_type": "code",
   "execution_count": 56,
   "metadata": {},
   "outputs": [
    {
     "data": {
      "text/plain": [
       "HybridModule(\n",
       "  (tm): TransitModule(primary, shape=(1, 100))\n",
       "  (lin): Linear(in_features=100, out_features=2, bias=True)\n",
       ")"
      ]
     },
     "execution_count": 56,
     "metadata": {},
     "output_type": "execute_result"
    }
   ],
   "source": [
    "hm = HybridModule(torch.linspace(4, 7, 100), ['rp', 'e'], **transit_pars)\n",
    "hm"
   ]
  },
  {
   "cell_type": "code",
   "execution_count": 57,
   "metadata": {},
   "outputs": [
    {
     "data": {
      "text/plain": [
       "tensor([[1.0000, 1.0000, 1.0000, 1.0000, 1.0000, 1.0000, 1.0000, 1.0000, 1.0000,\n",
       "         1.0000, 1.0000, 1.0000, 1.0000, 1.0000, 1.0000, 1.0000, 1.0000, 1.0000,\n",
       "         1.0000, 1.0000, 1.0000, 1.0000, 1.0000, 1.0000, 1.0000, 1.0000, 1.0000,\n",
       "         1.0000, 1.0000, 0.9976, 0.9975, 0.9974, 0.9974, 0.9974, 0.9974, 0.9974,\n",
       "         0.9975, 0.9976, 1.0000, 1.0000, 1.0000, 1.0000, 1.0000, 1.0000, 1.0000,\n",
       "         1.0000, 1.0000, 1.0000, 1.0000, 1.0000, 1.0000, 1.0000, 1.0000, 1.0000,\n",
       "         1.0000, 1.0000, 1.0000, 1.0000, 1.0000, 1.0000, 1.0000, 1.0000, 1.0000,\n",
       "         1.0000, 1.0000, 1.0000, 1.0000, 1.0000, 1.0000, 1.0000, 1.0000, 1.0000,\n",
       "         1.0000, 1.0000, 1.0000, 1.0000, 1.0000, 1.0000, 1.0000, 1.0000, 1.0000,\n",
       "         1.0000, 1.0000, 1.0000, 1.0000, 1.0000, 1.0000, 1.0000, 1.0000, 1.0000,\n",
       "         1.0000, 1.0000, 1.0000, 1.0000, 1.0000, 1.0000, 1.0000, 1.0000, 1.0000,\n",
       "         1.0000]], dtype=torch.float64, grad_fn=<MulBackward0>)"
      ]
     },
     "execution_count": 57,
     "metadata": {},
     "output_type": "execute_result"
    }
   ],
   "source": [
    "hm.tm(w=2)"
   ]
  },
  {
   "cell_type": "code",
   "execution_count": null,
   "metadata": {},
   "outputs": [],
   "source": []
  }
 ],
 "metadata": {
  "kernelspec": {
   "display_name": "Python (pylightcurve-torch)",
   "language": "python",
   "name": "pylightcurve"
  },
  "language_info": {
   "codemirror_mode": {
    "name": "ipython",
    "version": 3
   },
   "file_extension": ".py",
   "mimetype": "text/x-python",
   "name": "python",
   "nbconvert_exporter": "python",
   "pygments_lexer": "ipython3",
   "version": "3.7.7"
  },
  "toc": {
   "base_numbering": 1,
   "nav_menu": {},
   "number_sections": true,
   "sideBar": true,
   "skip_h1_title": false,
   "title_cell": "Table of Contents",
   "title_sidebar": "Contents",
   "toc_cell": false,
   "toc_position": {},
   "toc_section_display": true,
   "toc_window_display": false
  }
 },
 "nbformat": 4,
 "nbformat_minor": 4
}
